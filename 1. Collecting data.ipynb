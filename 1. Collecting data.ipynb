{
 "cells": [
  {
   "cell_type": "code",
   "execution_count": 2,
   "id": "174545f0",
   "metadata": {},
   "outputs": [],
   "source": [
    "import requests\n",
    "import re\n",
    "from bs4 import BeautifulSoup\n",
    "import pandas as pd\n",
    "import sqlite3\n",
    "import sys\n",
    "import sqlalchemy as db\n",
    "import pandas as pd\n",
    "from sqlalchemy import create_engine\n",
    "import pickle"
   ]
  },
  {
   "cell_type": "markdown",
   "id": "b18fb1e7",
   "metadata": {},
   "source": [
    "Downloading MTA data from May 2021-Apr 2022"
   ]
  },
  {
   "cell_type": "code",
   "execution_count": null,
   "id": "5f4af9f1",
   "metadata": {},
   "outputs": [],
   "source": [
    "engine = db.create_engine('sqlite:///mta_data.db')\n",
    "engine"
   ]
  },
  {
   "cell_type": "code",
   "execution_count": null,
   "id": "2fee7bae",
   "metadata": {},
   "outputs": [],
   "source": [
    "all_tables = engine.table_names()"
   ]
  },
  {
   "cell_type": "code",
   "execution_count": null,
   "id": "874a7263",
   "metadata": {},
   "outputs": [],
   "source": [
    "all_tables"
   ]
  },
  {
   "cell_type": "code",
   "execution_count": null,
   "id": "6f5f4392",
   "metadata": {},
   "outputs": [],
   "source": [
    "mta_df_0521 = pd.read_sql(\"select * from mta_data;\", engine) #May 2021"
   ]
  },
  {
   "cell_type": "code",
   "execution_count": null,
   "id": "151e3a52",
   "metadata": {},
   "outputs": [],
   "source": [
    "mta_df_0521.head()"
   ]
  },
  {
   "cell_type": "code",
   "execution_count": null,
   "id": "1cfe7115",
   "metadata": {},
   "outputs": [],
   "source": [
    "mta_df_0521.shape"
   ]
  },
  {
   "cell_type": "code",
   "execution_count": null,
   "id": "4edcd6f9",
   "metadata": {},
   "outputs": [],
   "source": [
    "mta_df_0521.to_pickle(\"mta_df_0521.pkl\") #may 2021"
   ]
  },
  {
   "cell_type": "code",
   "execution_count": null,
   "id": "4614367d",
   "metadata": {},
   "outputs": [],
   "source": [
    "mta_df_0521 = pd.read_pickle(\"mta_df_0521.pkl\")  "
   ]
  },
  {
   "cell_type": "code",
   "execution_count": null,
   "id": "29a20ff4",
   "metadata": {},
   "outputs": [],
   "source": [
    "mta_df_0621 = pd.read_sql(\"select * from mta_data;\", engine) #jun 2021"
   ]
  },
  {
   "cell_type": "code",
   "execution_count": null,
   "id": "d91d5c57",
   "metadata": {},
   "outputs": [],
   "source": [
    "mta_df_0621.to_pickle(\"mta_df_0621.pkl\")"
   ]
  },
  {
   "cell_type": "code",
   "execution_count": null,
   "id": "b7842d6f",
   "metadata": {},
   "outputs": [],
   "source": [
    "mta_df_070821 = pd.read_sql(\"select * from mta_data;\", engine) #jul & aug 2021"
   ]
  },
  {
   "cell_type": "code",
   "execution_count": null,
   "id": "8f0248c1",
   "metadata": {},
   "outputs": [],
   "source": [
    "mta_df_070821.to_pickle(\"mta_df_070821.pkl\")"
   ]
  },
  {
   "cell_type": "code",
   "execution_count": null,
   "id": "2bcae01e",
   "metadata": {},
   "outputs": [],
   "source": [
    "mta_df_091021 = pd.read_sql(\"select * from mta_data;\", engine) #sep & oct 2021"
   ]
  },
  {
   "cell_type": "code",
   "execution_count": null,
   "id": "1f23fe28",
   "metadata": {},
   "outputs": [],
   "source": [
    "mta_df_091021.to_pickle(\"mta_df_091021.pkl\")"
   ]
  },
  {
   "cell_type": "code",
   "execution_count": null,
   "id": "cee797ed",
   "metadata": {},
   "outputs": [],
   "source": [
    "mta_df_111221 = pd.read_sql(\"select * from mta_data;\", engine) #nov & dec 2021"
   ]
  },
  {
   "cell_type": "code",
   "execution_count": null,
   "id": "376f7328",
   "metadata": {},
   "outputs": [],
   "source": [
    "mta_df_111221.to_pickle(\"mta_df_111221.pkl\")"
   ]
  },
  {
   "cell_type": "code",
   "execution_count": null,
   "id": "d0e09334",
   "metadata": {},
   "outputs": [],
   "source": [
    "mta_df_010222 = pd.read_sql(\"select * from mta_data;\", engine) #jan & feb 2022"
   ]
  },
  {
   "cell_type": "code",
   "execution_count": null,
   "id": "a706044d",
   "metadata": {},
   "outputs": [],
   "source": [
    "mta_df_010222.to_pickle(\"mta_df_010222.pkl\")"
   ]
  },
  {
   "cell_type": "code",
   "execution_count": null,
   "id": "acffa7c0",
   "metadata": {},
   "outputs": [],
   "source": [
    "mta_df_030422 = pd.read_sql(\"select * from mta_data;\", engine) #mar & apr 2022"
   ]
  },
  {
   "cell_type": "code",
   "execution_count": 3,
   "id": "d3743e1a",
   "metadata": {},
   "outputs": [],
   "source": [
    "mta_df_030422.to_pickle(\"mta_df_030422.pkl\")"
   ]
  },
  {
   "cell_type": "code",
   "execution_count": 9,
   "id": "f77fc0ce",
   "metadata": {},
   "outputs": [],
   "source": [
    "mta_df_0521 = pd.read_pickle(\"mta_df_0521.pkl\")  "
   ]
  },
  {
   "cell_type": "code",
   "execution_count": 10,
   "id": "f498ac7c",
   "metadata": {},
   "outputs": [],
   "source": [
    "mta_df_0621 = pd.read_pickle(\"mta_df_0621.pkl\")  "
   ]
  },
  {
   "cell_type": "code",
   "execution_count": 11,
   "id": "515cba4c",
   "metadata": {},
   "outputs": [],
   "source": [
    "mta_df_070821 = pd.read_pickle(\"mta_df_070821.pkl\")  "
   ]
  },
  {
   "cell_type": "code",
   "execution_count": 12,
   "id": "2f58aa6e",
   "metadata": {},
   "outputs": [],
   "source": [
    "mta_df_091021 = pd.read_pickle(\"mta_df_091021.pkl\")  "
   ]
  },
  {
   "cell_type": "code",
   "execution_count": 13,
   "id": "6c2fc7b9",
   "metadata": {},
   "outputs": [],
   "source": [
    "mta_df_111221 = pd.read_pickle(\"mta_df_111221.pkl\")  "
   ]
  },
  {
   "cell_type": "code",
   "execution_count": 2,
   "id": "e493fbdb",
   "metadata": {},
   "outputs": [],
   "source": [
    "mta_df_010222 = pd.read_pickle(\"mta_df_010222.pkl\")  "
   ]
  },
  {
   "cell_type": "code",
   "execution_count": 3,
   "id": "71c32f21",
   "metadata": {},
   "outputs": [],
   "source": [
    "mta_df_030422 = pd.read_pickle(\"mta_df_030422.pkl\")"
   ]
  },
  {
   "cell_type": "code",
   "execution_count": 14,
   "id": "a730fd45",
   "metadata": {},
   "outputs": [],
   "source": [
    "df_2021 = [mta_df_0521, mta_df_0621, mta_df_070821, mta_df_091021, mta_df_111221]"
   ]
  },
  {
   "cell_type": "code",
   "execution_count": 4,
   "id": "9aef6cce",
   "metadata": {},
   "outputs": [],
   "source": [
    "df_2022 = [mta_df_010222, mta_df_030422]"
   ]
  },
  {
   "cell_type": "code",
   "execution_count": 15,
   "id": "fcad6e25",
   "metadata": {},
   "outputs": [],
   "source": [
    "mta_df_2021 = pd.concat([mta_df_0521, mta_df_0621, mta_df_070821, mta_df_091021, mta_df_111221], axis=0)\n"
   ]
  },
  {
   "cell_type": "code",
   "execution_count": 5,
   "id": "44dd874c",
   "metadata": {},
   "outputs": [],
   "source": [
    "mta_df_2022 = pd.concat([mta_df_010222, mta_df_030422], axis=0)\n"
   ]
  },
  {
   "cell_type": "code",
   "execution_count": 16,
   "id": "b5b5b179",
   "metadata": {},
   "outputs": [
    {
     "data": {
      "text/html": [
       "<div>\n",
       "<style scoped>\n",
       "    .dataframe tbody tr th:only-of-type {\n",
       "        vertical-align: middle;\n",
       "    }\n",
       "\n",
       "    .dataframe tbody tr th {\n",
       "        vertical-align: top;\n",
       "    }\n",
       "\n",
       "    .dataframe thead th {\n",
       "        text-align: right;\n",
       "    }\n",
       "</style>\n",
       "<table border=\"1\" class=\"dataframe\">\n",
       "  <thead>\n",
       "    <tr style=\"text-align: right;\">\n",
       "      <th></th>\n",
       "      <th>C/A</th>\n",
       "      <th>UNIT</th>\n",
       "      <th>SCP</th>\n",
       "      <th>STATION</th>\n",
       "      <th>LINENAME</th>\n",
       "      <th>DIVISION</th>\n",
       "      <th>DATE</th>\n",
       "      <th>TIME</th>\n",
       "      <th>DESC</th>\n",
       "      <th>ENTRIES</th>\n",
       "      <th>EXITS</th>\n",
       "    </tr>\n",
       "  </thead>\n",
       "  <tbody>\n",
       "    <tr>\n",
       "      <th>0</th>\n",
       "      <td>A002</td>\n",
       "      <td>R051</td>\n",
       "      <td>02-00-00</td>\n",
       "      <td>59 ST</td>\n",
       "      <td>NQR456W</td>\n",
       "      <td>BMT</td>\n",
       "      <td>05/22/2021</td>\n",
       "      <td>00:00:00</td>\n",
       "      <td>REGULAR</td>\n",
       "      <td>7575503</td>\n",
       "      <td>2588978</td>\n",
       "    </tr>\n",
       "    <tr>\n",
       "      <th>1</th>\n",
       "      <td>A002</td>\n",
       "      <td>R051</td>\n",
       "      <td>02-00-00</td>\n",
       "      <td>59 ST</td>\n",
       "      <td>NQR456W</td>\n",
       "      <td>BMT</td>\n",
       "      <td>05/22/2021</td>\n",
       "      <td>04:00:00</td>\n",
       "      <td>RECOVR AUD</td>\n",
       "      <td>7575515</td>\n",
       "      <td>2588982</td>\n",
       "    </tr>\n",
       "    <tr>\n",
       "      <th>2</th>\n",
       "      <td>A002</td>\n",
       "      <td>R051</td>\n",
       "      <td>02-00-00</td>\n",
       "      <td>59 ST</td>\n",
       "      <td>NQR456W</td>\n",
       "      <td>BMT</td>\n",
       "      <td>05/22/2021</td>\n",
       "      <td>08:00:00</td>\n",
       "      <td>REGULAR</td>\n",
       "      <td>7575523</td>\n",
       "      <td>2588989</td>\n",
       "    </tr>\n",
       "    <tr>\n",
       "      <th>3</th>\n",
       "      <td>A002</td>\n",
       "      <td>R051</td>\n",
       "      <td>02-00-00</td>\n",
       "      <td>59 ST</td>\n",
       "      <td>NQR456W</td>\n",
       "      <td>BMT</td>\n",
       "      <td>05/22/2021</td>\n",
       "      <td>12:00:00</td>\n",
       "      <td>REGULAR</td>\n",
       "      <td>7575557</td>\n",
       "      <td>2588996</td>\n",
       "    </tr>\n",
       "    <tr>\n",
       "      <th>4</th>\n",
       "      <td>A002</td>\n",
       "      <td>R051</td>\n",
       "      <td>02-00-00</td>\n",
       "      <td>59 ST</td>\n",
       "      <td>NQR456W</td>\n",
       "      <td>BMT</td>\n",
       "      <td>05/22/2021</td>\n",
       "      <td>16:00:00</td>\n",
       "      <td>REGULAR</td>\n",
       "      <td>7575630</td>\n",
       "      <td>2589008</td>\n",
       "    </tr>\n",
       "  </tbody>\n",
       "</table>\n",
       "</div>"
      ],
      "text/plain": [
       "    C/A  UNIT       SCP STATION LINENAME DIVISION        DATE      TIME  \\\n",
       "0  A002  R051  02-00-00   59 ST  NQR456W      BMT  05/22/2021  00:00:00   \n",
       "1  A002  R051  02-00-00   59 ST  NQR456W      BMT  05/22/2021  04:00:00   \n",
       "2  A002  R051  02-00-00   59 ST  NQR456W      BMT  05/22/2021  08:00:00   \n",
       "3  A002  R051  02-00-00   59 ST  NQR456W      BMT  05/22/2021  12:00:00   \n",
       "4  A002  R051  02-00-00   59 ST  NQR456W      BMT  05/22/2021  16:00:00   \n",
       "\n",
       "         DESC  ENTRIES    EXITS  \n",
       "0     REGULAR  7575503  2588978  \n",
       "1  RECOVR AUD  7575515  2588982  \n",
       "2     REGULAR  7575523  2588989  \n",
       "3     REGULAR  7575557  2588996  \n",
       "4     REGULAR  7575630  2589008  "
      ]
     },
     "execution_count": 16,
     "metadata": {},
     "output_type": "execute_result"
    }
   ],
   "source": [
    "mta_df_2021.head() #mta data May 2021-Apr 2022"
   ]
  },
  {
   "cell_type": "code",
   "execution_count": 16,
   "id": "be2b019c",
   "metadata": {},
   "outputs": [
    {
     "data": {
      "text/plain": [
       "(19694071, 11)"
      ]
     },
     "execution_count": 16,
     "metadata": {},
     "output_type": "execute_result"
    }
   ],
   "source": [
    "mta_df_2021.shape"
   ]
  },
  {
   "cell_type": "code",
   "execution_count": 17,
   "id": "3756c8e5",
   "metadata": {},
   "outputs": [
    {
     "data": {
      "text/plain": [
       "C/A         object\n",
       "UNIT        object\n",
       "SCP         object\n",
       "STATION     object\n",
       "LINENAME    object\n",
       "DIVISION    object\n",
       "DATE        object\n",
       "TIME        object\n",
       "DESC        object\n",
       "ENTRIES      int64\n",
       "EXITS        int64\n",
       "dtype: object"
      ]
     },
     "execution_count": 17,
     "metadata": {},
     "output_type": "execute_result"
    }
   ],
   "source": [
    "mta_df_2021.dtypes"
   ]
  },
  {
   "cell_type": "code",
   "execution_count": 18,
   "id": "0b2407d9",
   "metadata": {},
   "outputs": [
    {
     "name": "stdout",
     "output_type": "stream",
     "text": [
      "<class 'pandas.core.frame.DataFrame'>\n",
      "Int64Index: 19694071 entries, 0 to 7340139\n",
      "Data columns (total 11 columns):\n",
      " #   Column    Dtype \n",
      "---  ------    ----- \n",
      " 0   C/A       object\n",
      " 1   UNIT      object\n",
      " 2   SCP       object\n",
      " 3   STATION   object\n",
      " 4   LINENAME  object\n",
      " 5   DIVISION  object\n",
      " 6   DATE      object\n",
      " 7   TIME      object\n",
      " 8   DESC      object\n",
      " 9   ENTRIES   int64 \n",
      " 10  EXITS     int64 \n",
      "dtypes: int64(2), object(9)\n",
      "memory usage: 1.8+ GB\n"
     ]
    }
   ],
   "source": [
    "mta_df_2021.info()"
   ]
  },
  {
   "cell_type": "code",
   "execution_count": 19,
   "id": "a619b75d",
   "metadata": {},
   "outputs": [
    {
     "data": {
      "text/html": [
       "<div>\n",
       "<style scoped>\n",
       "    .dataframe tbody tr th:only-of-type {\n",
       "        vertical-align: middle;\n",
       "    }\n",
       "\n",
       "    .dataframe tbody tr th {\n",
       "        vertical-align: top;\n",
       "    }\n",
       "\n",
       "    .dataframe thead th {\n",
       "        text-align: right;\n",
       "    }\n",
       "</style>\n",
       "<table border=\"1\" class=\"dataframe\">\n",
       "  <thead>\n",
       "    <tr style=\"text-align: right;\">\n",
       "      <th></th>\n",
       "      <th>C/A</th>\n",
       "      <th>UNIT</th>\n",
       "      <th>SCP</th>\n",
       "      <th>STATION</th>\n",
       "      <th>LINENAME</th>\n",
       "      <th>DIVISION</th>\n",
       "      <th>DATE</th>\n",
       "      <th>TIME</th>\n",
       "      <th>DESC</th>\n",
       "      <th>ENTRIES</th>\n",
       "      <th>EXITS</th>\n",
       "    </tr>\n",
       "  </thead>\n",
       "  <tbody>\n",
       "    <tr>\n",
       "      <th>0</th>\n",
       "      <td>A002</td>\n",
       "      <td>R051</td>\n",
       "      <td>02-00-00</td>\n",
       "      <td>59 ST</td>\n",
       "      <td>NQR456W</td>\n",
       "      <td>BMT</td>\n",
       "      <td>05/22/2021</td>\n",
       "      <td>00:00:00</td>\n",
       "      <td>REGULAR</td>\n",
       "      <td>7575503</td>\n",
       "      <td>2588978</td>\n",
       "    </tr>\n",
       "    <tr>\n",
       "      <th>1</th>\n",
       "      <td>A002</td>\n",
       "      <td>R051</td>\n",
       "      <td>02-00-00</td>\n",
       "      <td>59 ST</td>\n",
       "      <td>NQR456W</td>\n",
       "      <td>BMT</td>\n",
       "      <td>05/22/2021</td>\n",
       "      <td>04:00:00</td>\n",
       "      <td>RECOVR AUD</td>\n",
       "      <td>7575515</td>\n",
       "      <td>2588982</td>\n",
       "    </tr>\n",
       "    <tr>\n",
       "      <th>2</th>\n",
       "      <td>A002</td>\n",
       "      <td>R051</td>\n",
       "      <td>02-00-00</td>\n",
       "      <td>59 ST</td>\n",
       "      <td>NQR456W</td>\n",
       "      <td>BMT</td>\n",
       "      <td>05/22/2021</td>\n",
       "      <td>08:00:00</td>\n",
       "      <td>REGULAR</td>\n",
       "      <td>7575523</td>\n",
       "      <td>2588989</td>\n",
       "    </tr>\n",
       "    <tr>\n",
       "      <th>3</th>\n",
       "      <td>A002</td>\n",
       "      <td>R051</td>\n",
       "      <td>02-00-00</td>\n",
       "      <td>59 ST</td>\n",
       "      <td>NQR456W</td>\n",
       "      <td>BMT</td>\n",
       "      <td>05/22/2021</td>\n",
       "      <td>12:00:00</td>\n",
       "      <td>REGULAR</td>\n",
       "      <td>7575557</td>\n",
       "      <td>2588996</td>\n",
       "    </tr>\n",
       "    <tr>\n",
       "      <th>4</th>\n",
       "      <td>A002</td>\n",
       "      <td>R051</td>\n",
       "      <td>02-00-00</td>\n",
       "      <td>59 ST</td>\n",
       "      <td>NQR456W</td>\n",
       "      <td>BMT</td>\n",
       "      <td>05/22/2021</td>\n",
       "      <td>16:00:00</td>\n",
       "      <td>REGULAR</td>\n",
       "      <td>7575630</td>\n",
       "      <td>2589008</td>\n",
       "    </tr>\n",
       "  </tbody>\n",
       "</table>\n",
       "</div>"
      ],
      "text/plain": [
       "    C/A  UNIT       SCP STATION LINENAME DIVISION        DATE      TIME  \\\n",
       "0  A002  R051  02-00-00   59 ST  NQR456W      BMT  05/22/2021  00:00:00   \n",
       "1  A002  R051  02-00-00   59 ST  NQR456W      BMT  05/22/2021  04:00:00   \n",
       "2  A002  R051  02-00-00   59 ST  NQR456W      BMT  05/22/2021  08:00:00   \n",
       "3  A002  R051  02-00-00   59 ST  NQR456W      BMT  05/22/2021  12:00:00   \n",
       "4  A002  R051  02-00-00   59 ST  NQR456W      BMT  05/22/2021  16:00:00   \n",
       "\n",
       "         DESC  ENTRIES    EXITS  \n",
       "0     REGULAR  7575503  2588978  \n",
       "1  RECOVR AUD  7575515  2588982  \n",
       "2     REGULAR  7575523  2588989  \n",
       "3     REGULAR  7575557  2588996  \n",
       "4     REGULAR  7575630  2589008  "
      ]
     },
     "execution_count": 19,
     "metadata": {},
     "output_type": "execute_result"
    }
   ],
   "source": [
    "mta_df_2022.head()"
   ]
  },
  {
   "cell_type": "code",
   "execution_count": 20,
   "id": "ee92c4f2",
   "metadata": {},
   "outputs": [],
   "source": [
    "mta_df_2021.to_pickle(\"mta_df_2021.pkl\")"
   ]
  },
  {
   "cell_type": "code",
   "execution_count": 4,
   "id": "11498180",
   "metadata": {},
   "outputs": [],
   "source": [
    "mta_df_2021 = pd.read_pickle(\"mta_df_2021.pkl\")  "
   ]
  },
  {
   "cell_type": "code",
   "execution_count": 6,
   "id": "2671ccc7",
   "metadata": {},
   "outputs": [],
   "source": [
    "mta_df_2022.to_pickle(\"mta_df_2022.pkl\")"
   ]
  },
  {
   "cell_type": "code",
   "execution_count": 5,
   "id": "3c68d078",
   "metadata": {},
   "outputs": [],
   "source": [
    "mta_df_2022 = pd.read_pickle(\"mta_df_2022.pkl\")  "
   ]
  },
  {
   "cell_type": "code",
   "execution_count": 6,
   "id": "327a1a96",
   "metadata": {},
   "outputs": [],
   "source": [
    "mta_df = pd.concat([mta_df_2021, mta_df_2022], axis=0)"
   ]
  },
  {
   "cell_type": "code",
   "execution_count": 7,
   "id": "20623509",
   "metadata": {},
   "outputs": [],
   "source": [
    "mta_df.to_pickle(\"mta_df.pkl\")"
   ]
  },
  {
   "cell_type": "code",
   "execution_count": 8,
   "id": "1b8a1023",
   "metadata": {},
   "outputs": [],
   "source": [
    "mta_df = pd.read_pickle(\"mta_df.pkl\")  "
   ]
  },
  {
   "cell_type": "code",
   "execution_count": 9,
   "id": "823dc4d1",
   "metadata": {},
   "outputs": [
    {
     "data": {
      "text/html": [
       "<div>\n",
       "<style scoped>\n",
       "    .dataframe tbody tr th:only-of-type {\n",
       "        vertical-align: middle;\n",
       "    }\n",
       "\n",
       "    .dataframe tbody tr th {\n",
       "        vertical-align: top;\n",
       "    }\n",
       "\n",
       "    .dataframe thead th {\n",
       "        text-align: right;\n",
       "    }\n",
       "</style>\n",
       "<table border=\"1\" class=\"dataframe\">\n",
       "  <thead>\n",
       "    <tr style=\"text-align: right;\">\n",
       "      <th></th>\n",
       "      <th>C/A</th>\n",
       "      <th>UNIT</th>\n",
       "      <th>SCP</th>\n",
       "      <th>STATION</th>\n",
       "      <th>LINENAME</th>\n",
       "      <th>DIVISION</th>\n",
       "      <th>DATE</th>\n",
       "      <th>TIME</th>\n",
       "      <th>DESC</th>\n",
       "      <th>ENTRIES</th>\n",
       "      <th>EXITS</th>\n",
       "    </tr>\n",
       "  </thead>\n",
       "  <tbody>\n",
       "    <tr>\n",
       "      <th>0</th>\n",
       "      <td>A002</td>\n",
       "      <td>R051</td>\n",
       "      <td>02-00-00</td>\n",
       "      <td>59 ST</td>\n",
       "      <td>NQR456W</td>\n",
       "      <td>BMT</td>\n",
       "      <td>05/22/2021</td>\n",
       "      <td>00:00:00</td>\n",
       "      <td>REGULAR</td>\n",
       "      <td>7575503</td>\n",
       "      <td>2588978</td>\n",
       "    </tr>\n",
       "    <tr>\n",
       "      <th>1</th>\n",
       "      <td>A002</td>\n",
       "      <td>R051</td>\n",
       "      <td>02-00-00</td>\n",
       "      <td>59 ST</td>\n",
       "      <td>NQR456W</td>\n",
       "      <td>BMT</td>\n",
       "      <td>05/22/2021</td>\n",
       "      <td>04:00:00</td>\n",
       "      <td>RECOVR AUD</td>\n",
       "      <td>7575515</td>\n",
       "      <td>2588982</td>\n",
       "    </tr>\n",
       "    <tr>\n",
       "      <th>2</th>\n",
       "      <td>A002</td>\n",
       "      <td>R051</td>\n",
       "      <td>02-00-00</td>\n",
       "      <td>59 ST</td>\n",
       "      <td>NQR456W</td>\n",
       "      <td>BMT</td>\n",
       "      <td>05/22/2021</td>\n",
       "      <td>08:00:00</td>\n",
       "      <td>REGULAR</td>\n",
       "      <td>7575523</td>\n",
       "      <td>2588989</td>\n",
       "    </tr>\n",
       "    <tr>\n",
       "      <th>3</th>\n",
       "      <td>A002</td>\n",
       "      <td>R051</td>\n",
       "      <td>02-00-00</td>\n",
       "      <td>59 ST</td>\n",
       "      <td>NQR456W</td>\n",
       "      <td>BMT</td>\n",
       "      <td>05/22/2021</td>\n",
       "      <td>12:00:00</td>\n",
       "      <td>REGULAR</td>\n",
       "      <td>7575557</td>\n",
       "      <td>2588996</td>\n",
       "    </tr>\n",
       "    <tr>\n",
       "      <th>4</th>\n",
       "      <td>A002</td>\n",
       "      <td>R051</td>\n",
       "      <td>02-00-00</td>\n",
       "      <td>59 ST</td>\n",
       "      <td>NQR456W</td>\n",
       "      <td>BMT</td>\n",
       "      <td>05/22/2021</td>\n",
       "      <td>16:00:00</td>\n",
       "      <td>REGULAR</td>\n",
       "      <td>7575630</td>\n",
       "      <td>2589008</td>\n",
       "    </tr>\n",
       "  </tbody>\n",
       "</table>\n",
       "</div>"
      ],
      "text/plain": [
       "    C/A  UNIT       SCP STATION LINENAME DIVISION        DATE      TIME  \\\n",
       "0  A002  R051  02-00-00   59 ST  NQR456W      BMT  05/22/2021  00:00:00   \n",
       "1  A002  R051  02-00-00   59 ST  NQR456W      BMT  05/22/2021  04:00:00   \n",
       "2  A002  R051  02-00-00   59 ST  NQR456W      BMT  05/22/2021  08:00:00   \n",
       "3  A002  R051  02-00-00   59 ST  NQR456W      BMT  05/22/2021  12:00:00   \n",
       "4  A002  R051  02-00-00   59 ST  NQR456W      BMT  05/22/2021  16:00:00   \n",
       "\n",
       "         DESC  ENTRIES    EXITS  \n",
       "0     REGULAR  7575503  2588978  \n",
       "1  RECOVR AUD  7575515  2588982  \n",
       "2     REGULAR  7575523  2588989  \n",
       "3     REGULAR  7575557  2588996  \n",
       "4     REGULAR  7575630  2589008  "
      ]
     },
     "execution_count": 9,
     "metadata": {},
     "output_type": "execute_result"
    }
   ],
   "source": [
    "mta_df.head()"
   ]
  }
 ],
 "metadata": {
  "kernelspec": {
   "display_name": "Python 3",
   "language": "python",
   "name": "python3"
  },
  "language_info": {
   "codemirror_mode": {
    "name": "ipython",
    "version": 3
   },
   "file_extension": ".py",
   "mimetype": "text/x-python",
   "name": "python",
   "nbconvert_exporter": "python",
   "pygments_lexer": "ipython3",
   "version": "3.8.13"
  }
 },
 "nbformat": 4,
 "nbformat_minor": 5
}
